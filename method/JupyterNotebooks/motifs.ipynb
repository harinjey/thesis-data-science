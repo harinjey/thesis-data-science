{
 "cells": [
  {
   "cell_type": "code",
   "execution_count": null,
   "metadata": {},
   "outputs": [],
   "source": [
    "import pandas as pd\n",
    "import matplotlib.pyplot as plt\n",
    "import numpy as np"
   ]
  },
  {
   "cell_type": "markdown",
   "metadata": {},
   "source": [
    "PDX1 hepatocyte- MA0132.2 \n",
    "\n",
    "UP00066_2 (Hnf4a_secondary) \n",
    "\n",
    "TFCP2 liver, MA1968.1\n",
    "\n",
    "HNF4A, \thepatocyte nuclear factor 4 alpha\n",
    "\n",
    "MA0484.2, HNF4G, hepatocyte nuclear factor 4 gamma\n",
    "\n",
    "CEBPG, MA1636.1\n",
    "\n",
    "foxa1,MA0148.4\n",
    "\n",
    "foxa2, MA0047.3 \n",
    "\n",
    "RXRα (retinoid X receptor α), MA0074.1\n",
    "\n",
    "ATF3, MA0605.2 \n",
    "\n",
    "MAFG\n"
   ]
  },
  {
   "cell_type": "markdown",
   "metadata": {},
   "source": [
    "XGB:"
   ]
  },
  {
   "cell_type": "code",
   "execution_count": null,
   "metadata": {},
   "outputs": [],
   "source": [
    "\n",
    "# Load the Tomtom file\n",
    "xgb_motifs = pd.read_csv(\"tomtom.tsv\", sep=\"\\t\")\n",
    "\n"
   ]
  },
  {
   "cell_type": "code",
   "execution_count": null,
   "metadata": {},
   "outputs": [],
   "source": [
    "# Filter the dataframe to include significant q-values\n",
    "sig = xgb_motifs.loc[xgb_motifs['q-value'] < 0.05]"
   ]
  },
  {
   "cell_type": "code",
   "execution_count": null,
   "metadata": {},
   "outputs": [],
   "source": [
    "print(sig.to_string())"
   ]
  },
  {
   "cell_type": "code",
   "execution_count": null,
   "metadata": {},
   "outputs": [],
   "source": [
    "grouped = sig.groupby('Query_ID')"
   ]
  },
  {
   "cell_type": "code",
   "execution_count": null,
   "metadata": {},
   "outputs": [],
   "source": [
    "print(grouped.groups)"
   ]
  }
 ],
 "metadata": {
  "kernelspec": {
   "display_name": "masterHarini",
   "language": "python",
   "name": "masterharini"
  },
  "language_info": {
   "codemirror_mode": {
    "name": "ipython",
    "version": 3
   },
   "file_extension": ".py",
   "mimetype": "text/x-python",
   "name": "python",
   "nbconvert_exporter": "python",
   "pygments_lexer": "ipython3",
   "version": "3.9.15"
  }
 },
 "nbformat": 4,
 "nbformat_minor": 4
}
